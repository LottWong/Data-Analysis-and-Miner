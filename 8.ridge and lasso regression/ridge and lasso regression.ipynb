{
 "cells": [
  {
   "cell_type": "code",
   "execution_count": null,
   "metadata": {},
   "outputs": [],
   "source": [
    "import pandas as pd\n",
    "import numpy as np\n",
    "from sklearn import model_selection\n",
    "from sklearn.linear_model import Ridge, RidgeCV\n",
    "import matplotlib.pyplot as plt\n",
    "\n",
    "diabetes = pd.read_excel(r'diabetes.xlsx', sep='')\n",
    "predictors = diabetes.columns[2:-1]\n",
    "X_train, X_test, y_train, y_test = model_selection.train_test_split(diabetes[predictors],\n",
    "                                                                   diabetes['Y'],\n",
    "                                                                   test_size=0.2,\n",
    "                                                                   random_state=1234)"
   ]
  },
  {
   "cell_type": "code",
   "execution_count": null,
   "metadata": {},
   "outputs": [],
   "source": [
    "# 岭回归\n",
    "#构造不同lambda值\n",
    "Lambdas = np.logspace(-5, 2, 200)\n",
    "# 偏回归系数\n",
    "ridge_cofficients = []\n",
    "for Lambda in Lambdas:\n",
    "    ridge = Ridge(alpha=Lambda, normalize=True)\n",
    "    ridge.fit(X_train, y_train)\n",
    "    ridge_cofficients.append(ridge.coef_)\n",
    "plt.rcParams['font.sans-serif'] = ['Microsoft YaHei']\n",
    "plt.rcParams['axes.unicode_minus'] = False\n",
    "plt.style.use('ggplot')\n",
    "plt.plot(Lambdas, ridge_cofficients)\n",
    "# 对X轴变换\n",
    "plt.xscale('log')\n",
    "plt.xlabel('Lambda')\n",
    "plt.ylabel('Cofficients')\n",
    "plt.show()"
   ]
  },
  {
   "cell_type": "code",
   "execution_count": null,
   "metadata": {},
   "outputs": [],
   "source": [
    "# 岭回归模型交叉检验\n",
    "ridge_cv = RidgeCV(alphas=Lambdas, normalize=True, scoring='neg_mean_squared_error', cv=10)\n",
    "ridge_cv.fit(X_train, y_train)\n",
    "ridge_best_alpha = ridge_cv.alpha_\n",
    "ridge_best_alpha"
   ]
  },
  {
   "cell_type": "code",
   "execution_count": null,
   "metadata": {},
   "outputs": [],
   "source": [
    "from sklearn.metrics import mean_squared_error\n",
    "#基于最佳lambda值建模\n",
    "ridge = Ridge(alpha=ridge_best_alpha, normalize=True)\n",
    "ridge.fit(X_train, y_train)\n",
    "pd.Series(index=['Intercept']+X_train.columns.tolist(), data=[ridge.intercept_] + ridge.coef_.tolist())\n",
    "#预测\n",
    "ridge_predict = ridge.predict(X_test)\n",
    "#预测效果\n",
    "RMSE = np.sqrt(mean_squared_error(y_test, ridge_predict))\n",
    "RMSE"
   ]
  },
  {
   "cell_type": "code",
   "execution_count": null,
   "metadata": {},
   "outputs": [],
   "source": [
    "# Lasso回归\n",
    "from sklearn.linear_model import Lasso, LassoCV\n",
    "lasso_cofficients = []\n",
    "for Lambda in Lambdas:\n",
    "    lasso = Lasso(alpha=Lambda, normalize=True, max_iter=10000)\n",
    "    lasso.fit(X_train, y_train)\n",
    "    lasso_cofficients.append(lasso.coef_)\n",
    "\n",
    "#绘制lambda与回归系数关系\n",
    "plt.plot(Lambdas, lasso_cofficients)\n",
    "plt.xscale('log')\n",
    "plt.xlabel('Lambda')\n",
    "plt.ylabel('Cofficients')\n",
    "plt.show()"
   ]
  },
  {
   "cell_type": "code",
   "execution_count": null,
   "metadata": {},
   "outputs": [],
   "source": [
    "# LASSO回归模型交叉检验\n",
    "lasso_cv = LassoCV(alphas=Lambdas, normalize=True, cv=10, max_iter=10000)\n",
    "lasso_cv.fit(X_train, y_train)\n",
    "lasso_best_alpha = lasso_cv.alpha_\n",
    "lasso_best_alpha"
   ]
  },
  {
   "cell_type": "code",
   "execution_count": null,
   "metadata": {},
   "outputs": [],
   "source": [
    "# 基于最佳Lambda建模\n",
    "lasso = Lasso(alpha=lasso_best_alpha, normalize=True, max_iter=10000)\n",
    "lasso.fit(X_train, y_train)\n",
    "pd.Series(index = ['Intercept'] + X_train.columns.tolist(),data = [lasso.intercept_] + lasso.coef_.tolist())\n",
    "#预测\n",
    "lasso_predict = lasso.predict(X_test)\n",
    "RMSE = np.sqrt(mean_squared_error(y_test, lasso_predict))\n",
    "RMSE"
   ]
  },
  {
   "cell_type": "code",
   "execution_count": null,
   "metadata": {},
   "outputs": [],
   "source": [
    "# statsmodels\n",
    "from statsmodels import api as sms\n",
    "X_train2 = sms.add_constant(X_train)\n",
    "X_test2 = sms.add_constant(X_test)\n",
    "\n",
    "linear = sms.OLS(y_train, X_train2).fit()\n",
    "display(linear.params)\n",
    "\n",
    "linear_predict = linear.predict(X_test2)\n",
    "RMSE = np.sqrt(mean_squared_error(y_test, linear_predict))\n",
    "RMSE"
   ]
  }
 ],
 "metadata": {
  "kernelspec": {
   "display_name": "Python 3",
   "language": "python",
   "name": "python3"
  },
  "language_info": {
   "codemirror_mode": {
    "name": "ipython",
    "version": 3
   },
   "file_extension": ".py",
   "mimetype": "text/x-python",
   "name": "python",
   "nbconvert_exporter": "python",
   "pygments_lexer": "ipython3",
   "version": "3.7.0"
  }
 },
 "nbformat": 4,
 "nbformat_minor": 2
}
